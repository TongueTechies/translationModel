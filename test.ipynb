{
 "cells": [
  {
   "cell_type": "code",
   "execution_count": 7,
   "metadata": {},
   "outputs": [
    {
     "name": "stdout",
     "output_type": "stream",
     "text": [
      "the still smell of old buildings it takes heat to bring out the order I call dip restores health exist a sole please find with him Tales of pastor are my favourite is just for food is the hot cross bun\n"
     ]
    }
   ],
   "source": [
    "import speech_recognition as sr# Initialize recognizer class                                       \n",
    "r = sr.Recognizer()# audio object                                                         \n",
    "audio = sr.AudioFile(\"harvard.wav\")#read audio object and transcribe\n",
    "with audio as source:\n",
    "    audio = r.record(source)                  \n",
    "    result = r.recognize_google(audio)\n",
    "    \n",
    "print(result)"
   ]
  },
  {
   "cell_type": "code",
   "execution_count": null,
   "metadata": {},
   "outputs": [],
   "source": []
  }
 ],
 "metadata": {
  "kernelspec": {
   "display_name": "venv",
   "language": "python",
   "name": "python3"
  },
  "language_info": {
   "codemirror_mode": {
    "name": "ipython",
    "version": 3
   },
   "file_extension": ".py",
   "mimetype": "text/x-python",
   "name": "python",
   "nbconvert_exporter": "python",
   "pygments_lexer": "ipython3",
   "version": "3.10.12"
  }
 },
 "nbformat": 4,
 "nbformat_minor": 2
}
